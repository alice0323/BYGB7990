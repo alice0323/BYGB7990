{
 "cells": [
  {
   "cell_type": "code",
   "execution_count": 24,
   "metadata": {},
   "outputs": [],
   "source": [
    "#!/usr/bin/env python\n",
    "# -*- coding: utf-8 -*-\n",
    "from __future__ import division\n",
    "import nltk\n",
    "import matplotlib\n",
    "from nltk.book import *\n",
    "from nltk.util import bigrams\n",
    "import pandas as pd\n"
   ]
  },
  {
   "cell_type": "code",
   "execution_count": 21,
   "metadata": {},
   "outputs": [],
   "source": [
    "import re\n",
    "emotions_str = r\"\"\"\n",
    "    (?:\n",
    "        [:=;] # 眼睛\n",
    "        [oO\\-]? # ⿐鼻⼦子\n",
    "        [D\\)\\]\\(\\]/\\\\OpP] # 嘴\n",
    "    )\"\"\"\n",
    "regex_str = [\n",
    "    emotions_str,\n",
    "    r'<[^>]+>', # HTML tags\n",
    "    r'(?:@[\\w_]+)', # @某⼈人\n",
    "    r\"(?:\\#+[\\w_]+[\\w\\'_\\-]*[\\w_]+)\", # 话题标签\n",
    "    r'http[s]?://(?:[a-z]|[0-9]|[$-_@.&amp;+]|[!*\\(\\),]|(?:%[0-9a-f][0-9a-f]))+',\n",
    "    # URLs\n",
    "    r'(?:(?:\\d+,?)+(?:\\.?\\d+)?)', # 数字\n",
    "    r\"(?:[a-z][a-z'\\-_]+[a-z])\", # 含有 - 和 ‘ 的单词\n",
    "    r'(?:[\\w_]+)', # 其他\n",
    "    r'(?:\\S)' # 其他\n",
    "    ]\n",
    "\n",
    "tokens_re = re.compile(r'('+'|'.join(regex_str)+')',re.VERBOSE | re.IGNORECASE)#所有特殊字符的匹配式\n",
    "emotion_re = re.compile(r'^'+emotions_str+'$',re.VERBOSE | re.IGNORECASE)#表情符号的匹配式\n",
    "\n",
    "def tokenize(s):\n",
    "    return tokens_re.findall(s) #匹配出所有特殊字符\n",
    "\n",
    "def preprocess(s,lowercase=False):\n",
    "    tokens = tokenize(s)\n",
    "    if lowercase:\n",
    "        tokens = [token if emotion_re.search(token) else token.lower() for token in tokens]#对非表情符号进行小写处理\n",
    "    return tokens#返回所有特殊字符"
   ]
  },
  {
   "cell_type": "code",
   "execution_count": 27,
   "metadata": {},
   "outputs": [],
   "source": [
    "text1 = 'And it\\'s made me realize that even though there were times when I wanted to say \"Fuck This\", I\\'m not regretting playing Strider on Hard'\n",
    "tokens = nltk.word_tokenize(text1)\n",
    "processed_text = preprocess(text1)"
   ]
  },
  {
   "cell_type": "code",
   "execution_count": 29,
   "metadata": {},
   "outputs": [
    {
     "name": "stdout",
     "output_type": "stream",
     "text": [
      "['And', \"it's\", 'made', 'realize', 'that', 'even', 'though', 'there', 'were', 'times', 'when', 'I', 'wanted', 'to', 'say', '\"', 'Fuck', 'This', '\"', ',', \"I'm\", 'not', 'regretting', 'playing', 'Strider', 'on', 'Hard']\n"
     ]
    }
   ],
   "source": [
    "from nltk.corpus import stopwords\n",
    "filtered_words = [word for word in processed_text if word not in stopwords.words('english')]\n",
    "filtered_words = [word for word in processed_text if word not in stopwords.words('spanish')]\n",
    "print(filtered_words)"
   ]
  },
  {
   "cell_type": "code",
   "execution_count": 19,
   "metadata": {},
   "outputs": [
    {
     "name": "stdout",
     "output_type": "stream",
     "text": [
      "bAnd\n",
      "made\n",
      "realize\n",
      "even\n",
      "though\n",
      "times\n",
      "I\n",
      "wanted\n",
      "say\n",
      "\"\n",
      "Fuck\n",
      "This\n",
      ",\n",
      "I'm\n",
      "regretting\n",
      "playing\n",
      "Strider\n",
      "Hard\n"
     ]
    },
    {
     "data": {
      "image/png": "[encoded data removed]",
      "text/plain": [
       "<Figure size 432x288 with 1 Axes>"
      ]
     },
     "metadata": {
      "needs_background": "light"
     },
     "output_type": "display_data"
    },
    {
     "data": {
      "text/plain": [
       "<matplotlib.axes._subplots.AxesSubplot at 0x23977a6dc50>"
      ]
     },
     "execution_count": 19,
     "metadata": {},
     "output_type": "execute_result"
    }
   ],
   "source": [
    "fdist = FreqDist(filtered_words)\n",
    "vocabulary = fdist.keys()\n",
    "for i in vocabulary:\n",
    "    print(i)\n",
    "fdist.plot(20)"
   ]
  },
  {
   "cell_type": "code",
   "execution_count": null,
   "metadata": {},
   "outputs": [],
   "source": []
  }
 ],
 "metadata": {
  "kernelspec": {
   "display_name": "Python 3",
   "language": "python",
   "name": "python3"
  },
  "language_info": {
   "codemirror_mode": {
    "name": "ipython",
    "version": 3
   },
   "file_extension": ".py",
   "mimetype": "text/x-python",
   "name": "python",
   "nbconvert_exporter": "python",
   "pygments_lexer": "ipython3",
   "version": "3.7.3"
  }
 },
 "nbformat": 4,
 "nbformat_minor": 2
}
